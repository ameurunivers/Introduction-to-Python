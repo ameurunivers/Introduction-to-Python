{
 "cells": [
  {
   "cell_type": "markdown",
   "id": "prostate-arizona",
   "metadata": {
    "id": "bA5ajAmk7XH6"
   },
   "source": [
    "# Introduction to Python\n",
    "\n",
    "👋 Welcome to your workspace! Here, you can write and run Python code and add text. The purpose of this workspace is to allow you to experiment with the data from [Introduction to Python](https://app.datacamp.com/learn/courses/intro-to-python-for-data-science) and practice your newly learned skills with some challenges. You can find out more about DataCamp Workspace [here](https://workspace-docs.datacamp.com/getting-started).\n",
    "\n",
    "Cells with text (such as this one) are [Markdown](https://www.markdownguide.org/basic-syntax/) cells. Markdown cells can contain notes, explain code, and summarize findings. As this may be your first workspace, we have included some steps to get you started!"
   ]
  },
  {
   "cell_type": "markdown",
   "id": "c1c12180",
   "metadata": {},
   "source": [
    "## 1. Get Started\n",
    "Below is a code cell. It is used to execute Python code. The code below imports two packages you used in Introduction to Python: `numpy` and `math`. The code also imports data you used in the course. \n",
    "\n",
    "It contains a function you may not have seen before: [`np.genfromtxt()`](https://numpy.org/doc/stable/reference/generated/numpy.genfromtxt.html). This function can be used to read in data from a `csv` file. You can review the code comments on the first array (`baseball_names`) to see how the function works!\n",
    "\n",
    "🏃**To execute the code, select the cell and click \"Run\" or the ► icon. You can also use Shift-Enter to run a selected cell.**"
   ]
  },
  {
   "cell_type": "code",
   "execution_count": null,
   "id": "2e25fdd8-4d84-45bc-80f0-949917e00a17",
   "metadata": {},
   "outputs": [],
   "source": [
    "# Importing course packages; you can add more too!\n",
    "import numpy as np\n",
    "import math\n",
    "\n",
    "# Import columns as numpy arrays\n",
    "baseball_names = np.genfromtxt(\n",
    "    fname=\"datasets/baseball.csv\",  # This is the filename\n",
    "    delimiter=\",\",  # The file is comma-separated\n",
    "    usecols=0,  # Use the first column\n",
    "    skip_header=1,  # Skip the first line\n",
    "    dtype=str,  # This column contains strings\n",
    ")\n",
    "baseball_heights = np.genfromtxt(\n",
    "    fname=\"datasets/baseball.csv\", delimiter=\",\", usecols=3, skip_header=1\n",
    ")\n",
    "baseball_weights = np.genfromtxt(\n",
    "    fname=\"datasets/baseball.csv\", delimiter=\",\", usecols=4, skip_header=1\n",
    ")\n",
    "baseball_ages = np.genfromtxt(\n",
    "    fname=\"datasets/baseball.csv\", delimiter=\",\", usecols=5, skip_header=1\n",
    ")\n",
    "\n",
    "# Print the first array\n",
    "print(baseball_names)"
   ]
  },
  {
   "cell_type": "markdown",
   "id": "c09c5c3a",
   "metadata": {},
   "source": [
    "## 2. Write Code\n",
    "After running the cell above, you have created four `numpy` arrays: `baseball_names`, `baseball_heights`, `baseball_weights`, and `baseball_ages`. \n",
    "\n",
    "Try one (or more) of the following tasks to get you started. Don't forget to add more code cells if you need them. This is your place to experiment! \n",
    "\n",
    "1. Print out the weight of the first ten baseball players. If you're stuck, try reviewing this [video](https://campus.datacamp.com/courses/intro-to-python-for-data-science/chapter-4-numpy?ex=1)!\n",
    "2. What is the median weight of all baseball players in the data? If you're stuck, try reviewing this [video](https://campus.datacamp.com/courses/intro-to-python-for-data-science/chapter-4-numpy?ex=13)!\n",
    "3. Print out the names of all players with a height greater than 80 (heights are in inches). If you're stuck, try reviewing this [video](https://campus.datacamp.com/courses/intro-to-python-for-data-science/chapter-4-numpy?ex=1)!\n",
    "\n",
    "Be sure to check out the Answer Key at the end to see one way to solve each problem. Did you try something similar?"
   ]
  },
  {
   "cell_type": "code",
   "execution_count": null,
   "id": "10176b86",
   "metadata": {},
   "outputs": [],
   "source": [
    "# Replace the code below and try one or more of the three challenges above!\n",
    "print(\"Let's get started!\")"
   ]
  },
  {
   "cell_type": "markdown",
   "id": "b3317e25-17e0-4f71-89fb-18d950b5bd85",
   "metadata": {},
   "source": [
    "## 3. Load More Data\n",
    "In the final exercise of Introduction to Python, you experimented with soccer data. Below is the code to import several columns from this data as `numpy` arrays.\n",
    "\n",
    "🏃**To execute the code, select the cell and click \"Run\" or the ► icon. You can also use Shift-Enter to run a selected cell.**"
   ]
  },
  {
   "cell_type": "code",
   "execution_count": null,
   "id": "fb8ea052",
   "metadata": {},
   "outputs": [],
   "source": [
    "# Import columns as numpy arrays\n",
    "soccer_names = np.genfromtxt(\n",
    "    fname=\"datasets/soccer.csv\",\n",
    "    delimiter=\",\",\n",
    "    usecols=1,\n",
    "    skip_header=1,\n",
    "    dtype=str,\n",
    "    encoding=\"utf\",  # Encoding set to utf so the data can be read in properly\n",
    ")\n",
    "soccer_ratings = np.genfromtxt(\n",
    "    fname=\"datasets/soccer.csv\",\n",
    "    delimiter=\",\",\n",
    "    usecols=2,\n",
    "    skip_header=1,\n",
    "    encoding=\"utf\",  # Encoding set to utf so the data can be read in properly\n",
    ")\n",
    "soccer_positions = np.genfromtxt(\n",
    "    fname=\"datasets/soccer.csv\",\n",
    "    delimiter=\",\",\n",
    "    usecols=3,\n",
    "    skip_header=1,\n",
    "    encoding=\"utf\",  # Encoding set to utf so the data can be read in properly\n",
    "    dtype=str,\n",
    ")\n",
    "soccer_heights = np.genfromtxt(\n",
    "    fname=\"datasets/soccer.csv\",\n",
    "    delimiter=\",\",\n",
    "    usecols=4,\n",
    "    skip_header=1,\n",
    "    encoding=\"utf\",  # Encoding set to utf so the data can be read in properly\n",
    ")\n",
    "soccer_shooting = np.genfromtxt(\n",
    "    fname=\"datasets/soccer.csv\",\n",
    "    delimiter=\",\",\n",
    "    usecols=8,\n",
    "    skip_header=1,\n",
    "    encoding=\"utf\",  # Encoding set to utf so the data can be read in properly\n",
    ")\n",
    "\n",
    "# Print the first array\n",
    "print(soccer_names)"
   ]
  },
  {
   "cell_type": "markdown",
   "id": "289544b8",
   "metadata": {},
   "source": [
    "## 4. Continue to Explore\n",
    "Just as with the baseball data, you now have a set of `numpy` arrays available containing different types of information about soccer players. Here is another set of challenges for you to try.\n",
    "\n",
    "4. Who is taller on average? Baseball players or soccer players? Keep in mind that baseball heights are stored in inches! If you're stuck, try reviewing this [video](https://campus.datacamp.com/courses/intro-to-python-for-data-science/chapter-4-numpy?ex=13).\n",
    "5. The values in `soccer_shooting` are whole numbers. Convert them to a decimal (e.g., 98 becomes 0.98). If you're stuck, try reviewing this [video](https://campus.datacamp.com/courses/intro-to-python-for-data-science/chapter-4-numpy?ex=1).\n",
    "6. Do taller players get higher ratings? Calculate the correlation between `soccer_ratings` and `soccer_heights` to find out! If you're stuck, try reviewing this [video](https://campus.datacamp.com/courses/intro-to-python-for-data-science/chapter-4-numpy?ex=13).\n",
    "7. What is the average rating for attacking players (`'A'`)? If you're stuck, try reviewing this [video](https://campus.datacamp.com/courses/intro-to-python-for-data-science/chapter-4-numpy?ex=13).\n",
    "\n",
    "Again, you can refer to the Answer Key at the end to check your answers."
   ]
  },
  {
   "cell_type": "code",
   "execution_count": null,
   "id": "f261262c",
   "metadata": {},
   "outputs": [],
   "source": [
    "# Replace the code below and try out the four challenges above!\n",
    "print(\"Let's keep going!\")"
   ]
  },
  {
   "cell_type": "markdown",
   "id": "798990da",
   "metadata": {},
   "source": [
    "Feeling confident about your skills? Continue on to [Intermediate Python](https://app.datacamp.com/learn/courses/intermediate-python)! This course will introduce you to some powerful libraries for visualizing and working with data: `matplotlib` and `pandas`!"
   ]
  },
  {
   "cell_type": "markdown",
   "id": "7f71ac0e",
   "metadata": {},
   "source": [
    "## Answer Key\n",
    "Below are potential solutions to the challenges shown above. Try them out and see how they compare to how you approached the problem!"
   ]
  },
  {
   "cell_type": "code",
   "execution_count": null,
   "id": "biblical-amber",
   "metadata": {},
   "outputs": [],
   "source": [
    "# 1. Print out the weight of the first ten baseball players.\n",
    "print(baseball_names[0:10])"
   ]
  },
  {
   "cell_type": "code",
   "execution_count": null,
   "id": "signal-farming",
   "metadata": {},
   "outputs": [],
   "source": [
    "# 2. What is the median weight of all baseball players in the data?\n",
    "print(np.median(baseball_weights))"
   ]
  },
  {
   "cell_type": "code",
   "execution_count": null,
   "id": "likely-packing",
   "metadata": {},
   "outputs": [],
   "source": [
    "# 3. Print out the names of all players with a height greater than 200.\n",
    "print(baseball_names[baseball_heights > 80])"
   ]
  },
  {
   "cell_type": "code",
   "execution_count": null,
   "id": "neural-fellowship",
   "metadata": {},
   "outputs": [],
   "source": [
    "# 4. Who is taller on average? Baseball players or soccer players?\n",
    "print(np.average(baseball_heights) * 2.54 > np.average(soccer_heights))"
   ]
  },
  {
   "cell_type": "code",
   "execution_count": null,
   "id": "reflected-festival",
   "metadata": {},
   "outputs": [],
   "source": [
    "# 5. The values in `soccer_shooting` are currently decimals. Convert them to whole numbers.\n",
    "soccer_shooting_whole = soccer_shooting * 100\n",
    "print(soccer_shooting_whole)"
   ]
  },
  {
   "cell_type": "code",
   "execution_count": null,
   "id": "geological-world",
   "metadata": {},
   "outputs": [],
   "source": [
    "# 6. Do taller players get higher ratings?\n",
    "print(np.corrcoef(soccer_heights, soccer_ratings))"
   ]
  },
  {
   "cell_type": "code",
   "execution_count": null,
   "id": "adjusted-florence",
   "metadata": {},
   "outputs": [],
   "source": [
    "# 7. What is the average rating for attacking players?\n",
    "print(np.mean(soccer_ratings[soccer_positions == \"A\"]))"
   ]
  }
 ],
 "metadata": {
  "colab": {
   "name": "Welcome to DataCamp Workspaces.ipynb",
   "provenance": []
  },
  "kernelspec": {
   "display_name": "Python 3 (ipykernel)",
   "language": "python",
   "name": "python3"
  },
  "language_info": {
   "codemirror_mode": {
    "name": "ipython",
    "version": 3
   },
   "file_extension": ".py",
   "mimetype": "text/x-python",
   "name": "python",
   "nbconvert_exporter": "python",
   "pygments_lexer": "ipython3",
   "version": "3.8.10"
  },
  "varInspector": {
   "cols": {
    "lenName": 16,
    "lenType": 16,
    "lenVar": 40
   },
   "kernels_config": {
    "python": {
     "delete_cmd_postfix": "",
     "delete_cmd_prefix": "del ",
     "library": "var_list.py",
     "varRefreshCmd": "print(var_dic_list())"
    },
    "r": {
     "delete_cmd_postfix": ") ",
     "delete_cmd_prefix": "rm(",
     "library": "var_list.r",
     "varRefreshCmd": "cat(var_dic_list()) "
    }
   },
   "types_to_exclude": [
    "module",
    "function",
    "builtin_function_or_method",
    "instance",
    "_Feature"
   ],
   "window_display": false
  }
 },
 "nbformat": 4,
 "nbformat_minor": 5
}
